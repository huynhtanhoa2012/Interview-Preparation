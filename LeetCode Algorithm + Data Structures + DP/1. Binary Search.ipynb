{
 "cells": [
  {
   "cell_type": "markdown",
   "id": "2052e2a0",
   "metadata": {},
   "source": [
    "# Binary Search\n",
    "\n",
    "\n",
    "\n"
   ]
  },
  {
   "cell_type": "code",
   "execution_count": 3,
   "id": "26283527",
   "metadata": {},
   "outputs": [],
   "source": [
    "nums1 = [-1,0,3,5,9,12]\n",
    "target1 = 9"
   ]
  },
  {
   "cell_type": "code",
   "execution_count": 7,
   "id": "1f8686b2",
   "metadata": {},
   "outputs": [],
   "source": [
    "nums1 = [-1,0,3,5,9,12]\n",
    "target1 = 2"
   ]
  },
  {
   "cell_type": "code",
   "execution_count": 5,
   "id": "cc23ab9c",
   "metadata": {},
   "outputs": [],
   "source": [
    "def search(nums, target):\n",
    "    start = 0\n",
    "    end = len(nums) - 1\n",
    "    \n",
    "    while start <= end:\n",
    "        mid = (start + end) // 2\n",
    "        if nums[mid] == target:\n",
    "            return mid\n",
    "        elif nums[mid] > target:\n",
    "            end = mid - 1\n",
    "        elif nums[mid] < target:\n",
    "            start = mid + 1\n",
    "    return -1\n",
    "    "
   ]
  },
  {
   "cell_type": "code",
   "execution_count": 8,
   "id": "665e02b4",
   "metadata": {
    "scrolled": true
   },
   "outputs": [
    {
     "data": {
      "text/plain": [
       "-1"
      ]
     },
     "execution_count": 8,
     "metadata": {},
     "output_type": "execute_result"
    }
   ],
   "source": [
    "search(nums1, target1)"
   ]
  },
  {
   "cell_type": "markdown",
   "id": "7a0e1791",
   "metadata": {},
   "source": [
    "# 278. First Bad Version"
   ]
  },
  {
   "cell_type": "code",
   "execution_count": null,
   "id": "de3777b4",
   "metadata": {},
   "outputs": [],
   "source": []
  },
  {
   "cell_type": "code",
   "execution_count": 9,
   "id": "3bd861f3",
   "metadata": {},
   "outputs": [],
   "source": [
    "#Binary Search recursive approach:\n",
    "def firstBadVersion(n):\n",
    "    start = 1\n",
    "        end = n\n",
    "        answer = 0\n",
    "\n",
    "        while start <= end:\n",
    "            mid = (start + end) // 2\n",
    "            if isBadVersion(mid):\n",
    "                answer = mid\n",
    "                end = mid - 1\n",
    "            else:\n",
    "                start = mid + 1\n",
    "\n",
    "        return answer\n",
    "    "
   ]
  },
  {
   "cell_type": "markdown",
   "id": "a09e15d6",
   "metadata": {},
   "source": [
    "# 35. Search Insert Position"
   ]
  },
  {
   "cell_type": "code",
   "execution_count": 11,
   "id": "284f9452",
   "metadata": {},
   "outputs": [
    {
     "ename": "IndentationError",
     "evalue": "expected an indented block (3441470992.py, line 16)",
     "output_type": "error",
     "traceback": [
      "\u001b[0;36m  File \u001b[0;32m\"/var/folders/2c/r5zc6f6n7079n3_b2wpcxdz00000gn/T/ipykernel_39726/3441470992.py\"\u001b[0;36m, line \u001b[0;32m16\u001b[0m\n\u001b[0;31m    return -1\u001b[0m\n\u001b[0m    ^\u001b[0m\n\u001b[0;31mIndentationError\u001b[0m\u001b[0;31m:\u001b[0m expected an indented block\n"
     ]
    }
   ],
   "source": [
    "def searchInsert(nums: List[int], target: int) -> int:\n",
    "    start = 0\n",
    "    end = len(nums) - 1\n",
    "    index = 0\n",
    "    \n",
    "    if target > nums[end]:\n",
    "        return end + 1\n",
    "    elif target < nums[start]:\n",
    "        return start\n",
    "    \n",
    "    while start<=end:\n",
    "        mid = (start+ end) // 2\n",
    "        \n",
    "        if nums[mid] == target:\n",
    "            index = mid\n",
    "        elif nums[mid] > target:\n",
    "            index = mid - 1\n",
    "            end = mid - 1\n",
    "        elif nums[mid] < target:\n",
    "            index = mid + 1\n",
    "            start = mid + 1\n",
    "            \n",
    "    return index\n",
    "    \n",
    "    "
   ]
  },
  {
   "cell_type": "code",
   "execution_count": null,
   "id": "234906c6",
   "metadata": {},
   "outputs": [],
   "source": []
  },
  {
   "cell_type": "code",
   "execution_count": null,
   "id": "dab45abe",
   "metadata": {},
   "outputs": [],
   "source": []
  },
  {
   "cell_type": "code",
   "execution_count": null,
   "id": "319dec2f",
   "metadata": {},
   "outputs": [],
   "source": []
  },
  {
   "cell_type": "code",
   "execution_count": null,
   "id": "034f1d01",
   "metadata": {},
   "outputs": [],
   "source": []
  }
 ],
 "metadata": {
  "kernelspec": {
   "display_name": "Python 3 (ipykernel)",
   "language": "python",
   "name": "python3"
  },
  "language_info": {
   "codemirror_mode": {
    "name": "ipython",
    "version": 3
   },
   "file_extension": ".py",
   "mimetype": "text/x-python",
   "name": "python",
   "nbconvert_exporter": "python",
   "pygments_lexer": "ipython3",
   "version": "3.9.7"
  }
 },
 "nbformat": 4,
 "nbformat_minor": 5
}
