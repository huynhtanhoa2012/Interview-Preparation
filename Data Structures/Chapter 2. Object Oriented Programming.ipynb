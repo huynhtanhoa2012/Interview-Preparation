{
 "cells": [
  {
   "cell_type": "markdown",
   "id": "a8bac401",
   "metadata": {},
   "source": [
    "# Object Oriented Programming"
   ]
  },
  {
   "cell_type": "markdown",
   "id": "3e701534",
   "metadata": {},
   "source": [
    "* Member funcions:\n",
    "    * __init__ : automatically executed whenever create an instance of the class\n",
    "    * self: connects this method to the instance of the class, allow to refer to itself, have to declare explicitly\n",
    "* Class Object Attribute:\n",
    "    * Same for any instance of the class\n",
    "* Init Attributes:\n",
    "    * We take in the argument\n",
    "    * We assign it using self.attribute_name\n",
    "* Methods:\n",
    "    * Functions defined inside the body of the class \n",
    "    * Used to perform operations that sometimes utilize the attributes of the object we created"
   ]
  },
  {
   "cell_type": "code",
   "execution_count": 12,
   "id": "8d9e9e0f",
   "metadata": {},
   "outputs": [],
   "source": [
    "class Dog():\n",
    "    \n",
    "    # Class Object Attribute\n",
    "    # Same for any instance of the class\n",
    "    species = 'mammal'\n",
    "    \n",
    "    # Constructor\n",
    "    def __init__(self, breed, name):\n",
    "        self.breed = breed\n",
    "        self.name = name\n",
    "        \n",
    "    \n",
    "    # Operations \n",
    "    def bark(self, number):\n",
    "        print('WOOF! My name is {} and the number is {}'.format(self.name, number))"
   ]
  },
  {
   "cell_type": "code",
   "execution_count": 13,
   "id": "14dc59f9",
   "metadata": {},
   "outputs": [],
   "source": [
    "my_dog = Dog('Lab', 'Sam')"
   ]
  },
  {
   "cell_type": "code",
   "execution_count": 4,
   "id": "79d2c39f",
   "metadata": {},
   "outputs": [
    {
     "data": {
      "text/plain": [
       "__main__.Dog"
      ]
     },
     "execution_count": 4,
     "metadata": {},
     "output_type": "execute_result"
    }
   ],
   "source": [
    "type(my_dog)"
   ]
  },
  {
   "cell_type": "code",
   "execution_count": 14,
   "id": "2d623b86",
   "metadata": {},
   "outputs": [
    {
     "name": "stdout",
     "output_type": "stream",
     "text": [
      "WOOF! My name is Sam and the number is 23\n"
     ]
    }
   ],
   "source": [
    "my_dog.bark(23)"
   ]
  },
  {
   "cell_type": "code",
   "execution_count": null,
   "id": "335517f3",
   "metadata": {},
   "outputs": [],
   "source": []
  },
  {
   "cell_type": "code",
   "execution_count": 19,
   "id": "10e10b40",
   "metadata": {},
   "outputs": [],
   "source": [
    "class Circle():\n",
    "    \n",
    "    # Class object attribute\n",
    "    pi = 3.14\n",
    "    \n",
    "    # Constructor\n",
    "    def __init__(self, radius=1):\n",
    "        self.radius = radius\n",
    "    \n",
    "    # Methods\n",
    "    def get_circumfrence(self):\n",
    "        return self.radius * self.pi * 2"
   ]
  },
  {
   "cell_type": "code",
   "execution_count": 22,
   "id": "69ce1b80",
   "metadata": {},
   "outputs": [],
   "source": [
    "my_circle = Circle(30)"
   ]
  },
  {
   "cell_type": "code",
   "execution_count": 23,
   "id": "aa3454e9",
   "metadata": {},
   "outputs": [
    {
     "data": {
      "text/plain": [
       "188.4"
      ]
     },
     "execution_count": 23,
     "metadata": {},
     "output_type": "execute_result"
    }
   ],
   "source": [
    "my_circle.get_circumfrence()"
   ]
  },
  {
   "cell_type": "markdown",
   "id": "78dc1f67",
   "metadata": {},
   "source": [
    "# Inheritance and Polymorphism"
   ]
  },
  {
   "cell_type": "markdown",
   "id": "54374742",
   "metadata": {},
   "source": [
    "### Inheritance:\n",
    "* way to form new classes using classes that have already been defined\n",
    "* **benefits**: \n",
    "    * the ability to reuse code that you've already worked on \n",
    "    * reduce the complexity of a program\n",
    "    * new classes(**derived class**) inherit some of its methods that we want to use again\n",
    "    * able to add or overwrite methods"
   ]
  },
  {
   "cell_type": "code",
   "execution_count": 26,
   "id": "566fb802",
   "metadata": {},
   "outputs": [],
   "source": [
    "class Animal():\n",
    "    \n",
    "    def __init__(self):\n",
    "        print('Animal Created')\n",
    "    \n",
    "    def who_am_i(self):\n",
    "        print('I am an animal')\n",
    "        \n",
    "    def eat(self):\n",
    "        print('I am eating')"
   ]
  },
  {
   "cell_type": "code",
   "execution_count": 29,
   "id": "c2a71db3",
   "metadata": {},
   "outputs": [],
   "source": [
    "# Derived class\n",
    "class Dog(Animal):  \n",
    "    \n",
    "    def __init__(self):\n",
    "        Animal.__init__(self)\n",
    "        print('Dog created')\n",
    "        "
   ]
  },
  {
   "cell_type": "code",
   "execution_count": 27,
   "id": "1741c57c",
   "metadata": {},
   "outputs": [
    {
     "name": "stdout",
     "output_type": "stream",
     "text": [
      "Animal Created\n"
     ]
    }
   ],
   "source": [
    "animal = Animal()"
   ]
  },
  {
   "cell_type": "code",
   "execution_count": 28,
   "id": "9b92fc3e",
   "metadata": {},
   "outputs": [
    {
     "name": "stdout",
     "output_type": "stream",
     "text": [
      "I am eating\n"
     ]
    }
   ],
   "source": [
    "animal.eat()"
   ]
  },
  {
   "cell_type": "code",
   "execution_count": 30,
   "id": "0a3e8dbc",
   "metadata": {},
   "outputs": [
    {
     "name": "stdout",
     "output_type": "stream",
     "text": [
      "Animal Created\n",
      "Dog created\n"
     ]
    }
   ],
   "source": [
    "dog = Dog()"
   ]
  },
  {
   "cell_type": "markdown",
   "id": "034cfa9d",
   "metadata": {},
   "source": [
    "# Polymorphism"
   ]
  },
  {
   "cell_type": "markdown",
   "id": "ec732c55",
   "metadata": {},
   "source": [
    "* different object classes can share the same method and those methods can be called the same place\n",
    "* use abstract classes are ones that never expects to be instaniated\n",
    "* designed only serve as a base class \n"
   ]
  },
  {
   "cell_type": "code",
   "execution_count": 32,
   "id": "8db1c52d",
   "metadata": {},
   "outputs": [],
   "source": [
    "class Dog():\n",
    "    \n",
    "    def __init__(self, name):\n",
    "        self.name = name\n",
    "    \n",
    "    def speak(self):\n",
    "        return self.name + ' says woof!'"
   ]
  },
  {
   "cell_type": "code",
   "execution_count": 33,
   "id": "ef62d693",
   "metadata": {},
   "outputs": [],
   "source": [
    "class Cat():\n",
    "    \n",
    "    def __init__(self, name):\n",
    "        self.name = name\n",
    "    \n",
    "    def speak(self):\n",
    "        return self.name + ' says meow!'"
   ]
  },
  {
   "cell_type": "code",
   "execution_count": 34,
   "id": "2f6a97b6",
   "metadata": {},
   "outputs": [],
   "source": [
    "niko = Dog('niko')\n",
    "felix = Cat('felix')"
   ]
  },
  {
   "cell_type": "code",
   "execution_count": 35,
   "id": "7a1353d1",
   "metadata": {},
   "outputs": [
    {
     "name": "stdout",
     "output_type": "stream",
     "text": [
      "niko says woof!\n"
     ]
    }
   ],
   "source": [
    "print(niko.speak())"
   ]
  },
  {
   "cell_type": "code",
   "execution_count": 36,
   "id": "77b6952d",
   "metadata": {},
   "outputs": [
    {
     "name": "stdout",
     "output_type": "stream",
     "text": [
      "felix says meow!\n"
     ]
    }
   ],
   "source": [
    "print(felix.speak())"
   ]
  },
  {
   "cell_type": "code",
   "execution_count": 37,
   "id": "3c45b26b",
   "metadata": {},
   "outputs": [
    {
     "name": "stdout",
     "output_type": "stream",
     "text": [
      "<class '__main__.Dog'>\n",
      "niko says woof!\n",
      "<class '__main__.Cat'>\n",
      "felix says meow!\n"
     ]
    }
   ],
   "source": [
    "for pet in [niko, felix]:\n",
    "    print(type(pet))\n",
    "    print(pet.speak())"
   ]
  },
  {
   "cell_type": "code",
   "execution_count": 38,
   "id": "c6af8bf8",
   "metadata": {},
   "outputs": [],
   "source": [
    "def pet_speak(pet):\n",
    "    print(pet.speak())"
   ]
  },
  {
   "cell_type": "code",
   "execution_count": 39,
   "id": "897731af",
   "metadata": {},
   "outputs": [
    {
     "name": "stdout",
     "output_type": "stream",
     "text": [
      "niko says woof!\n"
     ]
    }
   ],
   "source": [
    "pet_speak(niko)"
   ]
  },
  {
   "cell_type": "code",
   "execution_count": 42,
   "id": "0e9e094e",
   "metadata": {},
   "outputs": [],
   "source": [
    "# Create class as base class\n",
    "class Animal():\n",
    "    \n",
    "    def __init__(self, name):\n",
    "        self.name = name\n",
    "    \n",
    "    def speak(self):\n",
    "        raise NotImplementedError(\"Subclass must implement this abstract method\")\n",
    "    "
   ]
  },
  {
   "cell_type": "code",
   "execution_count": 44,
   "id": "fc19f3c0",
   "metadata": {},
   "outputs": [],
   "source": [
    "animal = Animal('sf')"
   ]
  },
  {
   "cell_type": "code",
   "execution_count": 53,
   "id": "c1772ee1",
   "metadata": {},
   "outputs": [],
   "source": [
    "class Cat(Animal):\n",
    "    \n",
    "    def speak(self):\n",
    "        return self.name + \" say something\""
   ]
  },
  {
   "cell_type": "code",
   "execution_count": 54,
   "id": "01da5f3f",
   "metadata": {},
   "outputs": [],
   "source": [
    "class Dog(Animal):\n",
    "    \n",
    "    def speak(self):\n",
    "        return self.name + \" i dont know\" "
   ]
  },
  {
   "cell_type": "code",
   "execution_count": 55,
   "id": "277bb132",
   "metadata": {},
   "outputs": [],
   "source": [
    "fido = Dog('fido')"
   ]
  },
  {
   "cell_type": "code",
   "execution_count": 56,
   "id": "f9610c9c",
   "metadata": {},
   "outputs": [],
   "source": [
    "isis = Cat('Isis')"
   ]
  },
  {
   "cell_type": "code",
   "execution_count": 57,
   "id": "7c596a46",
   "metadata": {
    "scrolled": true
   },
   "outputs": [
    {
     "name": "stdout",
     "output_type": "stream",
     "text": [
      "fido i dont know\n"
     ]
    }
   ],
   "source": [
    "print(fido.speak())"
   ]
  },
  {
   "cell_type": "code",
   "execution_count": 58,
   "id": "6a03fb9a",
   "metadata": {
    "scrolled": true
   },
   "outputs": [
    {
     "name": "stdout",
     "output_type": "stream",
     "text": [
      "Isis say something\n"
     ]
    }
   ],
   "source": [
    "print(isis.speak())"
   ]
  },
  {
   "cell_type": "markdown",
   "id": "2467f58e",
   "metadata": {},
   "source": [
    "# Special Methods"
   ]
  },
  {
   "cell_type": "markdown",
   "id": "4bd6df78",
   "metadata": {},
   "source": [
    "* Using double underscores"
   ]
  },
  {
   "cell_type": "code",
   "execution_count": 65,
   "id": "440074ee",
   "metadata": {},
   "outputs": [],
   "source": [
    "class Book():\n",
    "    \n",
    "    def __init__(self, title, author, pages):\n",
    "        self.title = title\n",
    "        self.author = author\n",
    "        self.pages = pages\n",
    "        \n",
    "    def __str__(self):\n",
    "        return f'{self.title} by {self.author}'\n",
    "    \n",
    "    def __len__(self):\n",
    "        return self.pages"
   ]
  },
  {
   "cell_type": "code",
   "execution_count": 67,
   "id": "87050ef8",
   "metadata": {},
   "outputs": [],
   "source": [
    "b = Book('Python rock', 'Jose', 200)"
   ]
  },
  {
   "cell_type": "code",
   "execution_count": 64,
   "id": "84c562e7",
   "metadata": {},
   "outputs": [
    {
     "data": {
      "text/plain": [
       "'Python rock by Jose'"
      ]
     },
     "execution_count": 64,
     "metadata": {},
     "output_type": "execute_result"
    }
   ],
   "source": [
    "str(b)"
   ]
  },
  {
   "cell_type": "code",
   "execution_count": 68,
   "id": "4b2de9fc",
   "metadata": {},
   "outputs": [
    {
     "data": {
      "text/plain": [
       "200"
      ]
     },
     "execution_count": 68,
     "metadata": {},
     "output_type": "execute_result"
    }
   ],
   "source": [
    "len(b)"
   ]
  }
 ],
 "metadata": {
  "kernelspec": {
   "display_name": "Python 3 (ipykernel)",
   "language": "python",
   "name": "python3"
  },
  "language_info": {
   "codemirror_mode": {
    "name": "ipython",
    "version": 3
   },
   "file_extension": ".py",
   "mimetype": "text/x-python",
   "name": "python",
   "nbconvert_exporter": "python",
   "pygments_lexer": "ipython3",
   "version": "3.9.7"
  }
 },
 "nbformat": 4,
 "nbformat_minor": 5
}
