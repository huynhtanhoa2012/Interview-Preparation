{
 "cells": [
  {
   "cell_type": "markdown",
   "id": "147df7ea",
   "metadata": {},
   "source": [
    "# Linked Lists"
   ]
  },
  {
   "cell_type": "markdown",
   "id": "a9b1f98a",
   "metadata": {},
   "source": [
    "# Understanding Linked Lists\n",
    "* Linked lists differ from lists in the way that they store elements in memory.\n",
    "* While lists use a contiguous memory block to store references to their data\n",
    "* Linked lists store references as part of their own elements."
   ]
  },
  {
   "cell_type": "markdown",
   "id": "17dcef79",
   "metadata": {},
   "source": [
    "# Main Concept\n",
    "* Each element of a linked list is called a node\n",
    "* Every node has two different fields:\n",
    "    * **Data** contains the value to be stored in the node.\n",
    "    * **Next** contains a reference to the next node on the list.\n",
    "\n",
    "* A linked list is a collection of nodes.\n",
    "* The first node is called the **head**, and it’s used as the starting point for any iteration through the list\n",
    "* The last node is called **tail** must have its next reference pointing to **None** to determine the end of the list"
   ]
  },
  {
   "cell_type": "markdown",
   "id": "a0082190",
   "metadata": {},
   "source": [
    "# Practical Applications\n",
    "\n",
    "## Queues or Stacks\n",
    "\n",
    "* Queues and stacks differ only in the way elements are retrieved\n",
    "* Because of the way you insert and retrieve elements from the edges of queues and stacks, linked lists are one of the most convenient ways to implement these data structures"
   ]
  },
  {
   "cell_type": "markdown",
   "id": "ed80e1d6",
   "metadata": {},
   "source": [
    "## Insertion and Deletion of Elements\n",
    "* inserting or removing elements that are not at the end of the **list** requires some element shifting in the background, the average time complexity will grow along with the size of the list: O(n).\n",
    "* Linked lists when it comes to insertion and deletion of elements at the beginning or end of a list, where their time complexity is always constant: O(1).\n",
    "\n",
    "* For this reason, linked lists have a performance advantage over normal lists when implementing a queue (FIFO), in which elements are continuously inserted and removed at the beginning of the list. \n",
    "\n",
    "* But they perform similarly to a list when implementing a stack (LIFO), in which elements are inserted and removed at the end of the list."
   ]
  },
  {
   "cell_type": "markdown",
   "id": "62391b71",
   "metadata": {},
   "source": [
    "## Retrieval of Elements\n",
    "* When it comes to element lookup, **lists** perform much better than **linked lists**\n",
    "    * lists can perform this operation in O(1) time.\n",
    "    * a linked list would take O(n) because you need to traverse the whole list to find the element.\n",
    "* When searching for a specific element, however, both lists and linked lists perform very similarly, with a time complexity of O(n). In both cases, you need to iterate through the entire list to find the element you’re looking for.\n"
   ]
  },
  {
   "cell_type": "markdown",
   "id": "1f24ab6c",
   "metadata": {},
   "source": [
    "## Issues with array that linked list solves\n",
    "1. The length of a dynamic array might be longer than the actual number of elements that it stores.\n",
    "2. Amortized bounds for operations may be unacceptable in real-time systems.\n",
    "3. Insertions and deletions at interior positions of an array are expensive.\n",
    "\n",
    "## Two main benefits\n",
    "1. Don't need to pre-allocate space\n",
    "2. Insertion easier and faster"
   ]
  },
  {
   "cell_type": "markdown",
   "id": "c050658e",
   "metadata": {},
   "source": [
    "|               | Array       |   Linked Lists     |\n",
    "| -----------   | ----------- |--------------------|\n",
    "| Indexing      | O(1)        |     O(n)           |\n",
    "| Insert/Delete at Start | O(n)           |    O(1)    |\n",
    "| Insert/Delete at End   | O(1) Amortized |   O(n)     |\n",
    "| Insert/Delete in Middle| O(n)           |    O(n)    |"
   ]
  },
  {
   "cell_type": "markdown",
   "id": "1bfbee96",
   "metadata": {},
   "source": [
    "# Implementing Your Own Linked List"
   ]
  },
  {
   "cell_type": "code",
   "execution_count": 40,
   "id": "b258f14a",
   "metadata": {},
   "outputs": [],
   "source": [
    "class Node:\n",
    "    def __init__(self, data):\n",
    "        self.data = data\n",
    "        self.next = None"
   ]
  },
  {
   "cell_type": "code",
   "execution_count": 41,
   "id": "3a631603",
   "metadata": {},
   "outputs": [],
   "source": [
    "a = Node(1)\n",
    "b = Node(2)\n",
    "c = Node(3)\n"
   ]
  },
  {
   "cell_type": "code",
   "execution_count": 42,
   "id": "e5f90664",
   "metadata": {},
   "outputs": [],
   "source": [
    "a.next = b\n",
    "b.next = c"
   ]
  },
  {
   "cell_type": "code",
   "execution_count": 43,
   "id": "f3e44b2e",
   "metadata": {},
   "outputs": [
    {
     "data": {
      "text/plain": [
       "1"
      ]
     },
     "execution_count": 43,
     "metadata": {},
     "output_type": "execute_result"
    }
   ],
   "source": [
    "a.data"
   ]
  },
  {
   "cell_type": "code",
   "execution_count": 46,
   "id": "dee91a37",
   "metadata": {},
   "outputs": [
    {
     "data": {
      "text/plain": [
       "2"
      ]
     },
     "execution_count": 46,
     "metadata": {},
     "output_type": "execute_result"
    }
   ],
   "source": [
    "a.next.data"
   ]
  },
  {
   "cell_type": "markdown",
   "id": "7b28230b",
   "metadata": {},
   "source": [
    "# Doubly Linked List\n"
   ]
  },
  {
   "cell_type": "code",
   "execution_count": 48,
   "id": "0567db8f",
   "metadata": {},
   "outputs": [],
   "source": [
    "class DoublyLinkedList():\n",
    "    def __init__(self, data):\n",
    "        self.data = data\n",
    "        self.next = None\n",
    "        self.prev = None\n",
    "        "
   ]
  },
  {
   "cell_type": "code",
   "execution_count": null,
   "id": "f56d6c7a",
   "metadata": {},
   "outputs": [],
   "source": []
  },
  {
   "cell_type": "markdown",
   "id": "6dfeb4e5",
   "metadata": {},
   "source": [
    "# Interview Problems"
   ]
  },
  {
   "cell_type": "markdown",
   "id": "34edc397",
   "metadata": {},
   "source": [
    "# Singly Linked List Cycle Check \n",
    "\n",
    "## Problem\n",
    "\n",
    "Given a singly linked list, write a function which takes in the first node in a singly linked list and returns a boolean indicating if the linked list contains a \"cycle\".\n",
    "\n",
    "A cycle is when a node's next point actually points back to a previous node in the list. This is also sometimes known as a circularly linked list.\n",
    "\n",
    "You've been given the Linked List Node class code:"
   ]
  },
  {
   "cell_type": "code",
   "execution_count": 49,
   "id": "6e227d44",
   "metadata": {},
   "outputs": [],
   "source": [
    "class Node(object):\n",
    "    \n",
    "    def __init__(self,value):\n",
    "        \n",
    "        self.value = value\n",
    "        self.nextnode = None"
   ]
  },
  {
   "cell_type": "code",
   "execution_count": 50,
   "id": "21f6af38",
   "metadata": {},
   "outputs": [],
   "source": [
    "def cycle_check(node):\n",
    "    \n",
    "    marker1 = node\n",
    "    marker2 = node\n",
    "    \n",
    "    while marker2 != None and marker2.nextnode != None:\n",
    "        \n",
    "        marker1 = marker1.nextnode\n",
    "        marker2 = marker2.nextnode.nextnode\n",
    "        \n",
    "        if marker1 == marker2:\n",
    "            return True\n",
    "    \n",
    "    return False\n",
    "    "
   ]
  },
  {
   "cell_type": "code",
   "execution_count": 51,
   "id": "ddde59d1",
   "metadata": {},
   "outputs": [
    {
     "name": "stdout",
     "output_type": "stream",
     "text": [
      "ALL TEST CASES PASSED\n"
     ]
    }
   ],
   "source": [
    "\"\"\"\n",
    "RUN THIS CELL TO TEST YOUR SOLUTION\n",
    "\"\"\"\n",
    "from nose.tools import assert_equal\n",
    "\n",
    "# CREATE CYCLE LIST\n",
    "a = Node(1)\n",
    "b = Node(2)\n",
    "c = Node(3)\n",
    "\n",
    "a.nextnode = b\n",
    "b.nextnode = c\n",
    "c.nextnode = a # Cycle Here!\n",
    "\n",
    "\n",
    "# CREATE NON CYCLE LIST\n",
    "x = Node(1)\n",
    "y = Node(2)\n",
    "z = Node(3)\n",
    "\n",
    "x.nextnode = y\n",
    "y.nextnode = z\n",
    "\n",
    "\n",
    "#############\n",
    "class TestCycleCheck(object):\n",
    "    \n",
    "    def test(self,sol):\n",
    "        assert_equal(sol(a),True)\n",
    "        assert_equal(sol(x),False)\n",
    "        \n",
    "        print(\"ALL TEST CASES PASSED\")\n",
    "        \n",
    "# Run Tests\n",
    "\n",
    "t = TestCycleCheck()\n",
    "t.test(cycle_check)\n"
   ]
  },
  {
   "cell_type": "markdown",
   "id": "d53464ee",
   "metadata": {},
   "source": [
    "# Linked List Reversal \n",
    "\n",
    "## Problem\n",
    "\n",
    "Write a function to reverse a Linked List in place. The function will take in the head of the list as input and return the new head of the list.\n",
    "\n",
    "You are given the example Linked List Node class:"
   ]
  },
  {
   "cell_type": "code",
   "execution_count": null,
   "id": "8b8ebf3a",
   "metadata": {},
   "outputs": [],
   "source": [
    "class Node(object):\n",
    "    \n",
    "    def __init__(self,value):\n",
    "        \n",
    "        self.value = value\n",
    "        self.nextnode = None"
   ]
  },
  {
   "cell_type": "code",
   "execution_count": null,
   "id": "05e63c9e",
   "metadata": {},
   "outputs": [],
   "source": [
    "def reverse(head):\n",
    "    \n",
    "    pass"
   ]
  },
  {
   "cell_type": "code",
   "execution_count": null,
   "id": "a97b5ba5",
   "metadata": {},
   "outputs": [],
   "source": []
  }
 ],
 "metadata": {
  "kernelspec": {
   "display_name": "Python 3 (ipykernel)",
   "language": "python",
   "name": "python3"
  },
  "language_info": {
   "codemirror_mode": {
    "name": "ipython",
    "version": 3
   },
   "file_extension": ".py",
   "mimetype": "text/x-python",
   "name": "python",
   "nbconvert_exporter": "python",
   "pygments_lexer": "ipython3",
   "version": "3.9.7"
  }
 },
 "nbformat": 4,
 "nbformat_minor": 5
}
