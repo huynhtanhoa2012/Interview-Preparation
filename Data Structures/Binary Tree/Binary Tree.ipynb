{
 "cells": [
  {
   "cell_type": "markdown",
   "id": "951c3057",
   "metadata": {},
   "source": [
    "# Binary Tree\n",
    "* A tree whole elements have at most 2 children is called a binary tree\n"
   ]
  },
  {
   "cell_type": "markdown",
   "id": "ab95485b",
   "metadata": {},
   "source": [
    "# Binary Tree | Set 1 (Introduction)\n",
    "\n",
    "#### Trees:\n",
    "* Unlike Arrays, Linked Lists, Stacks and Queues which are linear data structures. Trees are **hierarchical** data structures.\n",
    "\n",
    "#### Tree Vocabulary:\n",
    "* root: topmost node\n",
    "* children and parent\n",
    "\n",
    "#### Why using Tree:\n",
    "1. One reason to use trees might be because you want to store information that naturally forms a hierarchy. For example, the file system on a computer\n",
    "2. Trees (with some ordering e.g., BST) provide moderate access/search (quicker than Linked List and slower than arrays). \n",
    "3. Trees provide moderate insertion/deletion (quicker than Arrays and slower than Unordered Linked Lists). \n",
    "4. Like Linked Lists and unlike Arrays, Trees don’t have an upper limit on number of nodes as nodes are linked using pointers.\n",
    "\n",
    "#### Summation \n",
    "Main uses of trees include maintaining hierarchical data, providing moderate access and insert/delete operations"
   ]
  },
  {
   "cell_type": "markdown",
   "id": "0d55b783",
   "metadata": {},
   "source": [
    "# Binary Representation\n",
    "A Tree node contains following parts. \n",
    "1. Data \n",
    "2. Pointer to left child \n",
    "3. Pointer to right child"
   ]
  },
  {
   "cell_type": "code",
   "execution_count": 2,
   "id": "abe447af",
   "metadata": {},
   "outputs": [],
   "source": [
    "class Node:\n",
    "    def __init__(self, key):\n",
    "        self.val = key\n",
    "        self.left = None\n",
    "        self.right = None\n"
   ]
  },
  {
   "cell_type": "code",
   "execution_count": 5,
   "id": "36eb57d0",
   "metadata": {},
   "outputs": [],
   "source": [
    "root = Node(1)\n",
    "root.left = Node(2)\n",
    "root.right = Node(3)\n",
    "root.left.left = Node(4)"
   ]
  },
  {
   "cell_type": "code",
   "execution_count": 8,
   "id": "abb288bc",
   "metadata": {},
   "outputs": [
    {
     "data": {
      "text/plain": [
       "1"
      ]
     },
     "execution_count": 8,
     "metadata": {},
     "output_type": "execute_result"
    }
   ],
   "source": [
    "root.val\n"
   ]
  },
  {
   "cell_type": "markdown",
   "id": "7f030c00",
   "metadata": {},
   "source": [
    "# Binary Tree | Set 2 (Properties)\n",
    "\n",
    "#### 1. The maximum number of nodes at level ‘i’ of a binary tree is 2^i. \n",
    "* Root is level 0: i = 0, number of nodes 2^0 = 1\n",
    "\n",
    "#### The Maximum number of nodes in a binary tree of height ‘h’ is 2^h – 1. \n",
    "* Height of the tree is the maximum number of nodes on the root to leaf path."
   ]
  },
  {
   "cell_type": "markdown",
   "id": "b0406844",
   "metadata": {},
   "source": [
    "# Binary Tree | Set 3 (Types of Binary Tree)\n",
    "\n",
    "#### Full Binary Tree\n",
    "* A Binary Tree is a full binary tree if every node has 0 or 2 children\n",
    "\n",
    "#### Complete Binary Tree\n",
    "* A Binary Tree is a Complete Binary Tree if all the levels are completely filled except possibly the last level and the last level has all keys as left as possible \n",
    "\n",
    "#### Perfect Binary Tree\n",
    "* A Binary tree is a Perfect Binary Tree in which all the internal nodes have two children and all leaf nodes are at the same level\n",
    "\n",
    "#### Balanced Binary Tree \n",
    "* A binary tree is balanced if the height of the tree is O(Log n) where n is the number of nodes.\n",
    "\n",
    "#### A degenerate (or pathological) tree\n",
    "* A Tree where every internal node has one child\n"
   ]
  },
  {
   "cell_type": "markdown",
   "id": "a7b00063",
   "metadata": {},
   "source": [
    "# Insertion in a Binary Tree in level order\n",
    "Given a binary tree and a key, insert the key into the binary tree at the first position available in level order.\n",
    "* The idea is to do iterative level order traversal of the given tree using **queue**.\n",
    "* If we find a node whose left child is empty, we make new key as left child of the node.\n",
    "* Else if we find a node whose right child is empty, we make the new key as right child. \n",
    "* We keep traversing the tree until we find a node whose either left or right child is empty. "
   ]
  },
  {
   "cell_type": "code",
   "execution_count": null,
   "id": "1e927deb",
   "metadata": {},
   "outputs": [],
   "source": [
    "class newNode:\n",
    "    \n",
    "    def __init__(self, data):\n",
    "        self.key = data\n",
    "        self.left = None\n",
    "        self.right = None\n",
    "        \n",
    "    def insert(temp, key):\n",
    "        \n",
    "        if not temp:\n",
    "            root = newNode(key)\n",
    "            return\n",
    "        \n",
    "        q = []\n",
    "        q.append[temp]\n",
    "        \n",
    "        # Do level order traversal until we find an empty place.\n",
    "        while(len(q)):\n",
    "            temp = q[0]\n",
    "            q.pop(0)\n",
    "            \n",
    "            if (not temp.left):\n",
    "                temp.left = newNode(key)\n",
    "                break\n",
    "            else:\n",
    "                q.append(temp.left)\n",
    "\n",
    "            if (not temp.right):\n",
    "                temp.right = newNode(key)\n",
    "                break\n",
    "            else:\n",
    "                q.append(temp.right)"
   ]
  },
  {
   "cell_type": "code",
   "execution_count": null,
   "id": "9bf3b19e",
   "metadata": {},
   "outputs": [],
   "source": []
  }
 ],
 "metadata": {
  "kernelspec": {
   "display_name": "Python 3 (ipykernel)",
   "language": "python",
   "name": "python3"
  },
  "language_info": {
   "codemirror_mode": {
    "name": "ipython",
    "version": 3
   },
   "file_extension": ".py",
   "mimetype": "text/x-python",
   "name": "python",
   "nbconvert_exporter": "python",
   "pygments_lexer": "ipython3",
   "version": "3.9.7"
  }
 },
 "nbformat": 4,
 "nbformat_minor": 5
}
